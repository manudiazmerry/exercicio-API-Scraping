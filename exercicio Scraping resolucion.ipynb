{
 "cells": [
  {
   "cell_type": "code",
   "execution_count": 155,
   "id": "27abd001-4685-4b98-be2e-adce36336694",
   "metadata": {},
   "outputs": [],
   "source": [
    "# importa las librerias necesarias para hacer scraping\n",
    "\n",
    "import requests\n",
    "from bs4 import BeautifulSoup"
   ]
  },
  {
   "cell_type": "code",
   "execution_count": 156,
   "id": "98264006-afe9-4edf-b2f7-14e73d6609af",
   "metadata": {},
   "outputs": [
    {
     "name": "stdout",
     "output_type": "stream",
     "text": [
      "<html>\n",
      " <head>\n",
      "  <title>\n",
      "   idealista.com\n",
      "  </title>\n",
      "  <style>\n",
      "   #cmsg{animation: A 1.5s;}@keyframes A{0%{opacity:0;}99%{opacity:0;}100%{opacity:1;}}\n",
      "  </style>\n",
      " </head>\n",
      " <body style=\"margin:0\">\n",
      "  <p id=\"cmsg\">\n",
      "   Please enable JS and disable any ad blocker\n",
      "  </p>\n",
      "  <script>\n",
      "   var dd={'cid':'AHrlqAAAAAMA4rOx8Z-jkagAXxbyNw==','hsh':'AC81AADC3279CA4C7B968B717FBB30','t':'bv','s':17156,'host':'geo.captcha-delivery.com'}\n",
      "  </script>\n",
      "  <script src=\"https://ct.captcha-delivery.com/c.js\">\n",
      "  </script>\n",
      " </body>\n",
      "</html>\n",
      "\n"
     ]
    }
   ],
   "source": [
    "# haz scraping de la página de idealista, para las viviendas de alquiler en el barrio de los rosales (por ejemplo)\n",
    "# hazlo primero sin cambiar el user agent del header y observa el resultado\n",
    "\n",
    "\n",
    "#headers = { 'User-Agent' : 'Mozilla/5.0 (X11; Ubuntu; Linux x86_64; rv:94.0) Gecko/20100101 Firefox/94.0' }\n",
    "\n",
    "url='https://www.idealista.com/alquiler-viviendas/a-coruna/riazor-los-rosales/'\n",
    "\n",
    "paxina_sin_user_agent = requests.get(url)\n",
    "\n",
    "soup_sin_user_agent = BeautifulSoup(paxina_sin_user_agent.content, 'html.parser')\n",
    "\n",
    "print(soup_sin_user_agent.prettify())\n",
    "\n"
   ]
  },
  {
   "cell_type": "code",
   "execution_count": 157,
   "id": "6af9862c-2072-446e-bcac-c8e6fd317fe2",
   "metadata": {},
   "outputs": [],
   "source": [
    "# ahora hazlo modificando el user agent del header y observa el resultado\n",
    "\n",
    "\n",
    "headers = { 'User-Agent' : 'Mozilla/5.0 (X11; Ubuntu; Linux x86_64; rv:94.0) Gecko/20100101 Firefox/94.0' }\n",
    "\n",
    "url='https://www.idealista.com/alquiler-viviendas/a-coruna/riazor-los-rosales/'\n",
    "\n",
    "paxina = requests.get(url, headers = headers)\n",
    "\n",
    "soup = BeautifulSoup(paxina.content, 'html.parser')\n",
    "\n",
    "#print(soup.prettify())\n",
    "\n",
    "# es muy largo, así después de observarlo ejecuta de nuevo comentando el print\n"
   ]
  },
  {
   "cell_type": "code",
   "execution_count": 159,
   "id": "2bcb0c4c-ea90-422f-91b1-036815040994",
   "metadata": {},
   "outputs": [
    {
     "name": "stdout",
     "output_type": "stream",
     "text": [
      "<article class=\"item item-multimedia-container\" data-adid=\"96501895\">\n",
      " <picture class=\"item-multimedia\">\n",
      "  <div class=\"item-multimedia-pictures\">\n",
      "   <span class=\"icon-photos\">\n",
      "   </span>\n",
      "   <span data-count=\"\">\n",
      "    1/\n",
      "   </span>\n",
      "   <span data-total=\"\">\n",
      "    26\n",
      "   </span>\n",
      "  </div>\n",
      "  <div class=\"item-ribbon-container\">\n",
      "  </div>\n",
      "  <div class=\"item-gallery gallery-height-core-vitals neutral-orientation\">\n",
      "   <div class=\"mask-wrapper is-clickable\">\n",
      "    <div class=\"gallery-tap left\">\n",
      "    </div>\n",
      "    <div class=\"gallery-arrow left icon-arrow-left\">\n",
      "    </div>\n",
      "    <div class=\"mask\" style=\"touch-action: pan-y; user-select: none; -webkit-user-drag: none; -webkit-tap-highlight-color: rgba(0, 0, 0, 0); transition-duration: 0s; transform: translateX(0px);\">\n",
      "     <div class=\"placeholder\" style=\"transform: translateX(-100%);\">\n",
      "     </div>\n",
      "     <div class=\"placeholder\" style=\"transform: translateX(0px);\">\n",
      "      <img alt=\"Primera foto del inmueble\" class=\"\" data-preloaded-img=\"true\" height=\"225\" src=\"https://img3.idealista.com/blur/WEB_LISTING-M/0/id.pro.es.image.master/bd/5d/f9/949093042.jpg\" srcset=\"https://img3.idealista.com/blur/WEB_LISTING-M/0/id.pro.es.image.master/bd/5d/f9/949093042.jpg\" style=\"visibility: visible;\" width=\"300\"/>\n",
      "     </div>\n",
      "     <div class=\"placeholder\" style=\"transform: translateX(100%);\">\n",
      "      <img class=\"\" data-ondemand-img=\"https://img3.idealista.com/blur/WEB_LISTING-M/0/id.pro.es.image.master/bd/5d/f9/949093042.jpg\" height=\"225\" src=\"https://st1.idealista.com/static/common/img/icons/px.png\" width=\"300\"/>\n",
      "     </div>\n",
      "    </div>\n",
      "    <div class=\"gallery-tap right\">\n",
      "    </div>\n",
      "    <div class=\"gallery-arrow right icon-arrow-right\">\n",
      "    </div>\n",
      "   </div>\n",
      "  </div>\n",
      " </picture>\n",
      " <div class=\"item-info-container\">\n",
      "  <a aria-level=\"2\" class=\"item-link\" href=\"/inmueble/96501895/\" role=\"heading\" title=\"Piso en calle Simón Bolívar, 37, Riazor - Los Rosales, A Coruña\">\n",
      "   Piso en calle Simón Bolívar, 37, Riazor - Los Rosales, A Coruña\n",
      "  </a>\n",
      "  <div class=\"price-row\">\n",
      "   <span class=\"item-price h2-simulated\">\n",
      "    600\n",
      "    <span class=\"txt-big\">\n",
      "     €/mes\n",
      "    </span>\n",
      "   </span>\n",
      "   <span class=\"item-parking\">\n",
      "    Garaje incluido\n",
      "   </span>\n",
      "  </div>\n",
      "  <span class=\"item-detail\">\n",
      "   2\n",
      "   <small>\n",
      "    hab.\n",
      "   </small>\n",
      "  </span>\n",
      "  <span class=\"item-detail\">\n",
      "   75\n",
      "   <small>\n",
      "    m²\n",
      "   </small>\n",
      "  </span>\n",
      "  <span class=\"item-detail\">\n",
      "   Planta 6ª\n",
      "   <small>\n",
      "    exterior con ascensor\n",
      "   </small>\n",
      "  </span>\n",
      "  <span class=\"item-detail\">\n",
      "   Publicado ayer\n",
      "   <small>\n",
      "   </small>\n",
      "  </span>\n",
      "  <div class=\"item-description description\">\n",
      "   <p class=\"ellipsis\">\n",
      "    Situado en el barrio residencial de los Rosales con edificios modernos y actuales, la zona ofrece todos los servicios de supermercados, f...\n",
      "   </p>\n",
      "  </div>\n",
      "  <div class=\"item-toolbar\">\n",
      "   <span class=\"icon-phone item-not-clickable-phone\">\n",
      "    669 995 292\n",
      "   </span>\n",
      "   <a class=\"icon-phone phone-btn item-clickable-phone\" href=\"tel:+34 669995292\" target=\"_blank\">\n",
      "    <span>\n",
      "     Llamar\n",
      "    </span>\n",
      "   </a>\n",
      "   <button class=\"icon-chat email-btn action-email fake-anchor\">\n",
      "    <span>\n",
      "     Contactar\n",
      "    </span>\n",
      "   </button>\n",
      "   <button class=\"favorite-btn action-fav fake-anchor\" data-role=\"add\" data-text-add=\"Guardar\" data-text-remove=\"Favorito\" title=\"Guardar\">\n",
      "    <i class=\"icon-heart\" role=\"image\">\n",
      "    </i>\n",
      "    <span>\n",
      "     Guardar\n",
      "    </span>\n",
      "   </button>\n",
      "   <button class=\"icon-delete trash-btn action-discard fake-anchor\" data-role=\"add\" data-text-remove=\"Descartar\" rel=\"nofollow\" title=\"Descartar\">\n",
      "   </button>\n",
      "  </div>\n",
      " </div>\n",
      "</article>\n",
      "\n"
     ]
    }
   ],
   "source": [
    "# selecciona un único anuncio\n",
    "\n",
    "uno = soup.find_all('article')[0]\n",
    "print(uno.prettify())\n",
    "\n",
    "# soup.find('article') cogería el primero que aparece, así se puede seleccionar el que se quiera\n"
   ]
  },
  {
   "cell_type": "code",
   "execution_count": 164,
   "id": "a9c48627-8085-4b1e-ac4f-39c288f0d4b3",
   "metadata": {},
   "outputs": [
    {
     "name": "stdout",
     "output_type": "stream",
     "text": [
      "Hay 30 anuncios por página\n"
     ]
    }
   ],
   "source": [
    "# cuántos anuncios hay por página\n",
    "\n",
    "cts_anuncios=len(soup.find_all(class_=\"item-price h2-simulated\"))\n",
    "\n",
    "print(f'Hay {cts_anuncios} anuncios por página')\n",
    "\n",
    "\n",
    "# contamos esa clase que está en todos los anuncios en vez de article porque hay un par mezclados que no son anuncios"
   ]
  },
  {
   "cell_type": "code",
   "execution_count": 161,
   "id": "dd6b52c4-6a84-432a-a97d-1d4b58c00c0a",
   "metadata": {},
   "outputs": [
    {
     "name": "stdout",
     "output_type": "stream",
     "text": [
      "1.300€/mes\n",
      "<class 'str'>\n",
      "1300\n",
      "<class 'int'>\n"
     ]
    }
   ],
   "source": [
    "# obten el precio de un anuncio y consigue que sea número integer para poder operar\n",
    "\n",
    "uno = soup.find_all('article')[4]\n",
    "\n",
    "precio_str=uno.find(class_=\"item-price h2-simulated\").text\n",
    "print(precio_str)\n",
    "print(type(precio_str))\n",
    "\n",
    "precio_str=precio_str.replace('.','')\n",
    "precio_int = int(precio_str[:-5])\n",
    "print(precio_int)\n",
    "print(type(precio_int))\n"
   ]
  },
  {
   "cell_type": "code",
   "execution_count": 165,
   "id": "1cc2b908-85d8-4fc8-808e-ec3edf66ea75",
   "metadata": {},
   "outputs": [
    {
     "name": "stdout",
     "output_type": "stream",
     "text": [
      "Precio medio del alquiler de los anuncios de la página: 708.33 €/mes\n"
     ]
    }
   ],
   "source": [
    "# obten la media de precios de los anuncios de la página\n",
    "\n",
    "suma=0\n",
    "contador=0\n",
    "\n",
    "anuncios = soup.find_all(class_=\"item-price h2-simulated\")\n",
    "\n",
    "for anuncio in anuncios:\n",
    "    \n",
    "    precio_str=anuncio.text\n",
    "    precio_str=precio_str.replace('.','')\n",
    "    precio_int = int(precio_str[:-5])\n",
    "    suma += precio_int\n",
    "    contador += 1\n",
    "    \n",
    "media = round((suma/contador),2)\n",
    "\n",
    "print(f'Precio medio del alquiler de los anuncios de la página: {media} €/mes')\n",
    "\n",
    "    \n",
    "    \n",
    "   \n",
    "    "
   ]
  }
 ],
 "metadata": {
  "kernelspec": {
   "display_name": "Python 3 (ipykernel)",
   "language": "python",
   "name": "python3"
  },
  "language_info": {
   "codemirror_mode": {
    "name": "ipython",
    "version": 3
   },
   "file_extension": ".py",
   "mimetype": "text/x-python",
   "name": "python",
   "nbconvert_exporter": "python",
   "pygments_lexer": "ipython3",
   "version": "3.9.7"
  }
 },
 "nbformat": 4,
 "nbformat_minor": 5
}
