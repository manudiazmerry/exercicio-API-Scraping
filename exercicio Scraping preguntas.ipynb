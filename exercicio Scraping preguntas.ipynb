{
 "cells": [
  {
   "cell_type": "code",
   "execution_count": 117,
   "id": "27abd001-4685-4b98-be2e-adce36336694",
   "metadata": {},
   "outputs": [],
   "source": [
    "# importa las librerias necesarias para hacer scraping\n",
    "\n"
   ]
  },
  {
   "cell_type": "code",
   "execution_count": 1,
   "id": "98264006-afe9-4edf-b2f7-14e73d6609af",
   "metadata": {},
   "outputs": [],
   "source": [
    "# haz scraping de la página de idealista, para las viviendas de alquiler en el barrio de los rosales (por ejemplo)\n",
    "# hazlo primero sin cambiar el user agent del header y observa el resultado\n",
    "\n",
    "\n"
   ]
  },
  {
   "cell_type": "code",
   "execution_count": 8,
   "id": "6af9862c-2072-446e-bcac-c8e6fd317fe2",
   "metadata": {},
   "outputs": [],
   "source": [
    "# ahora hazlo modificando el user agent del header y observa el resultado\n",
    "\n",
    "\n",
    "\n",
    "# si es muy largo, después de observarlo puedes ejecutar de nuevo comentando el print"
   ]
  },
  {
   "cell_type": "code",
   "execution_count": 3,
   "id": "2bcb0c4c-ea90-422f-91b1-036815040994",
   "metadata": {},
   "outputs": [],
   "source": [
    "# selecciona un único anuncio\n"
   ]
  },
  {
   "cell_type": "code",
   "execution_count": 4,
   "id": "a9c48627-8085-4b1e-ac4f-39c288f0d4b3",
   "metadata": {},
   "outputs": [],
   "source": [
    "# cuántos anuncios hay por página\n"
   ]
  },
  {
   "cell_type": "code",
   "execution_count": 6,
   "id": "dd6b52c4-6a84-432a-a97d-1d4b58c00c0a",
   "metadata": {},
   "outputs": [],
   "source": [
    "# obten el precio de un anuncio y consigue que sea número integer para poder operar\n"
   ]
  },
  {
   "cell_type": "code",
   "execution_count": 7,
   "id": "1cc2b908-85d8-4fc8-808e-ec3edf66ea75",
   "metadata": {},
   "outputs": [],
   "source": [
    "# obten la media de precios de los anuncios de la página\n"
   ]
  },
  {
   "cell_type": "code",
   "execution_count": null,
   "id": "d1da32c1-4fd3-4727-b966-918e6768422a",
   "metadata": {},
   "outputs": [],
   "source": []
  }
 ],
 "metadata": {
  "kernelspec": {
   "display_name": "Python 3 (ipykernel)",
   "language": "python",
   "name": "python3"
  },
  "language_info": {
   "codemirror_mode": {
    "name": "ipython",
    "version": 3
   },
   "file_extension": ".py",
   "mimetype": "text/x-python",
   "name": "python",
   "nbconvert_exporter": "python",
   "pygments_lexer": "ipython3",
   "version": "3.9.7"
  }
 },
 "nbformat": 4,
 "nbformat_minor": 5
}
